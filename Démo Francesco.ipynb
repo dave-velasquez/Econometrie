{
 "cells": [
  {
   "cell_type": "markdown",
   "metadata": {},
   "source": [
    "# Démostration Introduction à l'Econométrie - L3 AES #"
   ]
  },
  {
   "cell_type": "markdown",
   "metadata": {},
   "source": [
    "## PACKAGES A TELECHARGER ##"
   ]
  },
  {
   "cell_type": "code",
   "execution_count": null,
   "metadata": {},
   "outputs": [],
   "source": [
    "library(ggplot2)\n",
    "library(readr)"
   ]
  },
  {
   "attachments": {},
   "cell_type": "markdown",
   "metadata": {},
   "source": [
    "**BDD de l'Early Childhood Longitudinal Survey**: Enquête représentative au niveau national. Les répondants au sondage d’origine sont des enfants qui appartiennent à l’ecole maternelle de l’année 1998-1999. "
   ]
  },
  {
   "cell_type": "markdown",
   "metadata": {},
   "source": [
    "## STATISTIQUES DESCRIPTIVES ## "
   ]
  },
  {
   "cell_type": "markdown",
   "metadata": {},
   "source": [
    "**math**:\tResultat au test de mathématique   \n",
    "**tvmfb**:\tHeures de télévision après l'école et avant le dîner, lundi-vendredi   \n",
    "**tvmfa**:\tHeures de télévision après le dîner, lundi-vendredi   \n",
    "**tvsat**:\tHeures de télévision le samedi   \n",
    "**tvsun**:\tHeures de télévision la dimanche   \n",
    "**gender**:\t1: homme, 2: femme   \n",
    "**ethnicity**:\t1: blanc, 2: noir, 3: hispanique, 4: autre   \n",
    "**bmi**:\tIndice de masse corporelle   \n",
    "**siblings**:\tNombre de frères et sœurs   \n",
    "**school**:\t1: public, 2: catholique, 3: autre privé   \n",
    "**momeduc**:\t1: 1-8 ans, 2: 9-11 ans, 3: 12 ans, 4: quelques annés de collège, 5: graduée au collège   \n",
    "**income**:\tRevenu familial annuel   \n",
    "**momwork**:\t1: ≥35 heures/semaine, 2: ≤35 heures/semaine, 3: ne travaille pas   \n",
    "**computer**:\t= 1 si les enfants ont accès à l'ordinateur à la maison, = 0 sinon   \n",
    "**schoolissues**:\t= 1 si l'école a des problèmes (surpeuplement, roulement d'enseignants, drogue), =0 sinon"
   ]
  },
  {
   "cell_type": "code",
   "execution_count": null,
   "metadata": {},
   "outputs": [],
   "source": [
    "BDD <- read_delim(\"BDD.csv\",\";\", col_types = cols(bmi = col_number(), computer = col_number(), ethnicity = col_character(), \n",
    "                  gender = col_character(), income = col_number(), \n",
    "                  math = col_number(), momeduc = col_character(), \n",
    "                  momwork = col_character(), school = col_character(), \n",
    "                  schoolissues = col_number(), siblings = col_number(), \n",
    "                  tvmfa = col_number(), tvmfb = col_number(), \n",
    "                  tvsat = col_number(), tvsun = col_number()), trim_ws = TRUE)\n",
    "\n",
    "head(BDD, n = 10)"
   ]
  },
  {
   "cell_type": "code",
   "execution_count": null,
   "metadata": {},
   "outputs": [],
   "source": [
    "BDD$gender <- as.factor(BDD$gender)\n",
    "BDD$ethnicity <- as.factor(BDD$ethnicity)\n",
    "BDD$momeduc <- as.factor(BDD$momeduc)\n",
    "BDD$momwork <- as.factor(BDD$momwork)\n",
    "BDD$school <- as.factor(BDD$school)\n",
    "BDD$computer <- as.factor(BDD$computer)\n",
    "BDD$schoolissues <- as.factor(BDD$schoolissues)\n",
    "\n",
    "summary(BDD)"
   ]
  },
  {
   "cell_type": "code",
   "execution_count": null,
   "metadata": {},
   "outputs": [],
   "source": [
    "hist(BDD$math,\n",
    "     xlab   = \"Resultats\",\n",
    "     ylab   = \" \",\n",
    "     main   = \"Histogramme des resultats au test de mathématique\", # main title\n",
    "     breaks = 20,   # how many breaks?\n",
    "     col    = \"red\",\n",
    "     border = \"blue\",\n",
    "     xlim=c(60,120))"
   ]
  },
  {
   "cell_type": "code",
   "execution_count": null,
   "metadata": {},
   "outputs": [],
   "source": [
    "barplot(table(BDD$ethnicity),\n",
    "        xlab   = \" \",\n",
    "        ylab   = \" \",\n",
    "        main   = \"Appartenance ethnique\",\n",
    "        col    = \"dodgerblue\",\n",
    "        border = \"darkorange\" \n",
    "       )"
   ]
  },
  {
   "cell_type": "markdown",
   "metadata": {},
   "source": [
    "## RÉGRESSION LINÉAIRE ##"
   ]
  },
  {
   "cell_type": "code",
   "execution_count": null,
   "metadata": {},
   "outputs": [],
   "source": [
    "tv <- BDD$tvmfb+BDD$tvmfa+BDD$tvsat+BDD$tvsun\n",
    "summary (tv)\n",
    "str(tv)"
   ]
  },
  {
   "cell_type": "code",
   "execution_count": null,
   "metadata": {},
   "outputs": [],
   "source": [
    "str (BDD$math)"
   ]
  },
  {
   "cell_type": "code",
   "execution_count": null,
   "metadata": {},
   "outputs": [],
   "source": [
    "reg <- lm(BDD$math ~ tv)\n",
    "summary (reg)"
   ]
  },
  {
   "cell_type": "markdown",
   "metadata": {},
   "source": [
    "*La droite de régression*"
   ]
  },
  {
   "cell_type": "code",
   "execution_count": null,
   "metadata": {},
   "outputs": [],
   "source": [
    "plot(BDD$math ~ tv,\n",
    "     xlab = \"Resultats au test de mathématique\",\n",
    "     ylab = \"Heures de télévision\",\n",
    "     pch  = 20,\n",
    "     cex  = 0.5,    \n",
    "    )\n",
    "abline (lm(BDD$math ~ tv), col = 'red')"
   ]
  },
  {
   "cell_type": "code",
   "execution_count": null,
   "metadata": {},
   "outputs": [],
   "source": [
    "plot(BDD$math ~ tv,\n",
    "     xlab = \"Resultats au test de mathématique\",\n",
    "     ylab = \"Heures de télévision\",\n",
    "     pch  = 20,\n",
    "     cex  = 0.5,    \n",
    "    )\n",
    "abline (102.1893, -0.3128, col = 'red')"
   ]
  }
 ],
 "metadata": {
  "kernelspec": {
   "display_name": "R",
   "language": "R",
   "name": "ir"
  },
  "language_info": {
   "codemirror_mode": "r",
   "file_extension": ".r",
   "mimetype": "text/x-r-source",
   "name": "R",
   "pygments_lexer": "r",
   "version": "3.4.2"
  }
 },
 "nbformat": 4,
 "nbformat_minor": 2
}
