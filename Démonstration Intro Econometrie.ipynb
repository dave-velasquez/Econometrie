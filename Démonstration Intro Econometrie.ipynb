{
 "cells": [
  {
   "cell_type": "markdown",
   "metadata": {},
   "source": [
    "## 1. Statistiques descriptives"
   ]
  },
  {
   "cell_type": "code",
   "execution_count": null,
   "metadata": {},
   "outputs": [],
   "source": [
    "library(ggplot2)\n",
    "library(tidyverse)\n",
    "library (datasets)"
   ]
  },
  {
   "cell_type": "code",
   "execution_count": null,
   "metadata": {},
   "outputs": [],
   "source": [
    "data(mpg,package = \"ggplot2\")"
   ]
  },
  {
   "cell_type": "code",
   "execution_count": null,
   "metadata": {},
   "outputs": [],
   "source": [
    "head(mpg, n = 10)"
   ]
  },
  {
   "cell_type": "code",
   "execution_count": null,
   "metadata": {},
   "outputs": [],
   "source": [
    "str (mpg)"
   ]
  },
  {
   "cell_type": "markdown",
   "metadata": {},
   "source": [
    "manufacturer: manufacturer name\n",
    "model : model name\n",
    "displ: engine displacement, in litres\n",
    "year: year of manufacture\n",
    "cyl: number of cylinders\n",
    "trans: type of transmission\n",
    "drv: the type of drive train, where f = front-wheel drive, r = rear wheel drive, 4 = 4wd\n",
    "cty: city miles per gallon\n",
    "hwy: highway miles per gallon\n",
    "fl: fuel type\n",
    "class: \"type\" of car"
   ]
  },
  {
   "cell_type": "code",
   "execution_count": null,
   "metadata": {},
   "outputs": [],
   "source": [
    "mpg$manufacturer <- as.factor(mpg$manufacturer)\n",
    "mpg$model <- as.factor(mpg$model)\n",
    "mpg$trans <- as.factor(mpg$trans)\n",
    "mpg$drv <- as.factor(mpg$drv)\n",
    "mpg$fl <- as.factor(mpg$fl)\n",
    "mpg$class <- as.factor(mpg$class)"
   ]
  },
  {
   "cell_type": "code",
   "execution_count": null,
   "metadata": {},
   "outputs": [],
   "source": [
    "summary(mpg)"
   ]
  },
  {
   "cell_type": "code",
   "execution_count": null,
   "metadata": {},
   "outputs": [],
   "source": [
    "reg <- lm(hwy ~ displ, data=mpg)\n",
    "summary (reg)"
   ]
  },
  {
   "cell_type": "code",
   "execution_count": null,
   "metadata": {},
   "outputs": [],
   "source": [
    "plot(hwy ~ displ, data=mpg)"
   ]
  },
  {
   "cell_type": "code",
   "execution_count": null,
   "metadata": {},
   "outputs": [],
   "source": [
    "plot(hwy ~ displ, data = mpg,\n",
    "     xlab = \"Engine Displacement (in Liters)\",\n",
    "     ylab = \"Miles Per Gallon (Highway)\",\n",
    "     main = \"MPG (Highway) vs Engine Displacement\",\n",
    "     pch  = 20,\n",
    "     cex  = 2,\n",
    "     col  = \"dodgerblue\")"
   ]
  }
 ],
 "metadata": {
  "kernelspec": {
   "display_name": "R",
   "language": "R",
   "name": "ir"
  },
  "language_info": {
   "codemirror_mode": "r",
   "file_extension": ".r",
   "mimetype": "text/x-r-source",
   "name": "R",
   "pygments_lexer": "r",
   "version": "3.4.2"
  }
 },
 "nbformat": 4,
 "nbformat_minor": 2
}
